{
 "cells": [
  {
   "cell_type": "code",
   "execution_count": 1,
   "metadata": {},
   "outputs": [],
   "source": [
    "from pathlib import Path\n",
    "import sys\n",
    "import cobra\n",
    "import os\n",
    "import pandas as pd\n",
    "import re"
   ]
  },
  {
   "cell_type": "code",
   "execution_count": 2,
   "metadata": {},
   "outputs": [],
   "source": [
    "path_root = Path(\"C:/Users/tobyl/OneDrive - The University of Manchester/Bioinformatics Masters/Research Project 2/Pycomo/PyCoMo/src\")\n",
    "sys.path.append(str(path_root))\n",
    "import pycomo\n"
   ]
  },
  {
   "cell_type": "code",
   "execution_count": null,
   "metadata": {},
   "outputs": [],
   "source": []
  },
  {
   "cell_type": "markdown",
   "metadata": {},
   "source": [
    "### Creating community model\n",
    "1. Load the member models"
   ]
  },
  {
   "cell_type": "code",
   "execution_count": 3,
   "metadata": {},
   "outputs": [],
   "source": [
    "# loading member models\n",
    "initial_path = Path().absolute().parent\n",
    "\n",
    "model_member_dir = initial_path / r\"old_files/models_members_test/Toy\"\n",
    "named_models = pycomo.load_named_models_from_dir(model_member_dir)"
   ]
  },
  {
   "cell_type": "code",
   "execution_count": 4,
   "metadata": {},
   "outputs": [
    {
     "output_type": "stream",
     "name": "stdout",
     "text": [
      "{'Faecalibacterium': <Model Faecalibacterium_prausnitzii_M21_2 at 0x7f8755c3f050>, 'Bifidobacterium': <Model Bifidobacterium_adolescentis_ATCC_15703 at 0x7f8755968440>, 'Bacteroides': <Model Bacteroides_uniformis_ATCC_8492 at 0x7f8755638bc0>}\n"
     ]
    }
   ],
   "source": [
    "# checking modesl that have been loaded\n",
    "print(named_models)"
   ]
  },
  {
   "cell_type": "code",
   "execution_count": null,
   "metadata": {
    "tags": []
   },
   "outputs": [],
   "source": [
    "# checking if I can edit the models\n",
    "model1 = named_models['Escherichia_coli_UTI89_UPEC']\n",
    "for reaction in model1.exchanges:\n",
    "    print(reaction.name)\n",
    "    print(reaction)\n",
    "    print(reaction.bounds)"
   ]
  },
  {
   "cell_type": "markdown",
   "metadata": {},
   "source": [
    "2. checking the objective function of the loaded models"
   ]
  },
  {
   "cell_type": "code",
   "execution_count": 5,
   "metadata": {},
   "outputs": [
    {
     "output_type": "stream",
     "name": "stdout",
     "text": [
      "Maximize\n1.0*biomass224 - 1.0*biomass224_reverse_c48a3\nMaximize\n1.0*biomass345 - 1.0*biomass345_reverse_e128f\nMaximize\n1.0*biomass536 - 1.0*biomass536_reverse_50d4e\n"
     ]
    }
   ],
   "source": [
    "# if all have a biomass objective function then it is working\n",
    "for model in named_models.values():\n",
    "    print(model.objective)"
   ]
  },
  {
   "cell_type": "code",
   "execution_count": 7,
   "metadata": {},
   "outputs": [
    {
     "output_type": "stream",
     "name": "stdout",
     "text": [
      "Faecalibacterium\n",
      "Bifidobacterium\n",
      "Bacteroides\n"
     ]
    }
   ],
   "source": [
    "# creating the single organism models in PyCoMo format\n",
    "single_org_models = []\n",
    "for name, model in named_models.items():\n",
    "    print(name)\n",
    "    single_org_model = pycomo.SingleOrganismModel(model, name)\n",
    "    single_org_models.append(single_org_model)"
   ]
  },
  {
   "cell_type": "markdown",
   "metadata": {},
   "source": [
    "3. Creating the community model"
   ]
  },
  {
   "cell_type": "code",
   "execution_count": 8,
   "metadata": {},
   "outputs": [],
   "source": [
    "community_name = \"ten_gutControl_model\"\n",
    "com_model_obj = pycomo.CommunityModel(single_org_models, community_name)"
   ]
  },
  {
   "cell_type": "code",
   "execution_count": 11,
   "metadata": {
    "tags": []
   },
   "outputs": [
    {
     "output_type": "stream",
     "name": "stderr",
     "text": [
      "Could not identify an external compartment by name and choosing one with the most boundary reactions. That might be complete nonsense or change suddenly. Consider renaming your compartments using `Model.compartments` to fix this.\n",
      "{'EX__12dgr180_medium': 1e-06, 'EX__3mop_medium': 1e-06, 'EX_Lcyst_medium': 1e-06, 'EX_Lcystin_medium': 1e-06, 'EX_MGlcn100_medium': 1e-06, 'EX_MGlcn100_rl_medium': 1e-06, 'EX_MGlcn101_medium': 1e-06, 'EX_MGlcn101_rl_medium': 1e-06, 'EX_MGlcn102_medium': 1e-06, 'EX_MGlcn102_rl_medium': 1e-06, 'EX_MGlcn104_medium': 1e-06, 'EX_MGlcn104_rl_medium': 1e-06, 'EX_MGlcn105_medium': 1e-06, 'EX_MGlcn105_rl_medium': 1e-06, 'EX_MGlcn106_medium': 1e-06, 'EX_MGlcn106_rl_medium': 1e-06, 'EX_MGlcn107_medium': 1e-06, 'EX_MGlcn107_rl_medium': 1e-06, 'EX_MGlcn109_medium': 1e-06, 'EX_MGlcn109_rl_medium': 1e-06, 'EX_MGlcn110_medium': 1e-06, 'EX_MGlcn110_rl_medium': 1e-06, 'EX_MGlcn111_medium': 1e-06, 'EX_MGlcn111_rl_medium': 1e-06, 'EX_MGlcn112_medium': 1e-06, 'EX_MGlcn112_rl_medium': 1e-06, 'EX_MGlcn113_medium': 1e-06, 'EX_MGlcn113_rl_medium': 1e-06, 'EX_MGlcn114_medium': 1e-06, 'EX_MGlcn114_rl_medium': 1e-06, 'EX_MGlcn115_medium': 1e-06, 'EX_MGlcn115_rl_medium': 1e-06, 'EX_MGlcn117_medium': 1e-06, 'EX_MGlcn117_rl_medium': 1e-06, 'EX_MGlcn120_medium': 1e-06, 'EX_MGlcn120_rl_medium': 1e-06, 'EX_MGlcn126_medium': 1e-06, 'EX_MGlcn126_rl_medium': 1e-06, 'EX_MGlcn12_medium': 1e-06, 'EX_MGlcn12_rl_medium': 1e-06, 'EX_MGlcn130_medium': 1e-06, 'EX_MGlcn130_rl_medium': 1e-06, 'EX_MGlcn131_medium': 1e-06, 'EX_MGlcn131_rl_medium': 1e-06, 'EX_MGlcn137_medium': 1e-06, 'EX_MGlcn137_rl_medium': 1e-06, 'EX_MGlcn138_medium': 1e-06, 'EX_MGlcn138_rl_medium': 1e-06, 'EX_MGlcn139_medium': 1e-06, 'EX_MGlcn139_rl_medium': 1e-06, 'EX_MGlcn13_medium': 1e-06, 'EX_MGlcn13_rl_medium': 1e-06, 'EX_MGlcn140_medium': 1e-06, 'EX_MGlcn140_rl_medium': 1e-06, 'EX_MGlcn141_medium': 1e-06, 'EX_MGlcn141_rl_medium': 1e-06, 'EX_MGlcn142_medium': 1e-06, 'EX_MGlcn142_rl_medium': 1e-06, 'EX_MGlcn143_medium': 1e-06, 'EX_MGlcn143_rl_medium': 1e-06, 'EX_MGlcn144_medium': 1e-06, 'EX_MGlcn144_rl_medium': 1e-06, 'EX_MGlcn145_medium': 1e-06, 'EX_MGlcn145_rl_medium': 1e-06, 'EX_MGlcn146_medium': 1e-06, 'EX_MGlcn146_rl_medium': 1e-06, 'EX_MGlcn147_medium': 1e-06, 'EX_MGlcn147_rl_medium': 1e-06, 'EX_MGlcn148_medium': 1e-06, 'EX_MGlcn148_rl_medium': 1e-06, 'EX_MGlcn149_medium': 1e-06, 'EX_MGlcn149_rl_medium': 1e-06, 'EX_MGlcn14_medium': 1e-06, 'EX_MGlcn14_rl_medium': 1e-06, 'EX_MGlcn150_medium': 1e-06, 'EX_MGlcn150_rl_medium': 1e-06, 'EX_MGlcn151_medium': 1e-06, 'EX_MGlcn151_rl_medium': 1e-06, 'EX_MGlcn152_medium': 1e-06, 'EX_MGlcn152_rl_medium': 1e-06, 'EX_MGlcn153_medium': 1e-06, 'EX_MGlcn153_rl_medium': 1e-06, 'EX_MGlcn154_medium': 1e-06, 'EX_MGlcn154_rl_medium': 1e-06, 'EX_MGlcn155_medium': 1e-06, 'EX_MGlcn155_rl_medium': 1e-06, 'EX_MGlcn156_medium': 1e-06, 'EX_MGlcn156_rl_medium': 1e-06, 'EX_MGlcn157_medium': 1e-06, 'EX_MGlcn157_rl_medium': 1e-06, 'EX_MGlcn158_medium': 1e-06, 'EX_MGlcn158_rl_medium': 1e-06, 'EX_MGlcn159_medium': 1e-06, 'EX_MGlcn159_rl_medium': 1e-06, 'EX_MGlcn160_medium': 1e-06, 'EX_MGlcn160_rl_medium': 1e-06, 'EX_MGlcn161_medium': 1e-06, 'EX_MGlcn161_rl_medium': 1e-06, 'EX_MGlcn163_medium': 1e-06, 'EX_MGlcn163_rl_medium': 1e-06, 'EX_MGlcn164_medium': 1e-06, 'EX_MGlcn164_rl_medium': 1e-06, 'EX_MGlcn165_medium': 1e-06, 'EX_MGlcn165_rl_medium': 1e-06, 'EX_MGlcn166_medium': 1e-06, 'EX_MGlcn166_rl_medium': 1e-06, 'EX_MGlcn167_medium': 1e-06, 'EX_MGlcn167_rl_medium': 1e-06, 'EX_MGlcn168_medium': 1e-06, 'EX_MGlcn168_rl_medium': 1e-06, 'EX_MGlcn169_medium': 1e-06, 'EX_MGlcn169_rl_medium': 1e-06, 'EX_MGlcn16_medium': 1e-06, 'EX_MGlcn16_rl_medium': 1e-06, 'EX_MGlcn170_medium': 1e-06, 'EX_MGlcn170_rl_medium': 1e-06, 'EX_MGlcn171_medium': 1e-06, 'EX_MGlcn171_rl_medium': 1e-06, 'EX_MGlcn172_medium': 1e-06, 'EX_MGlcn172_rl_medium': 1e-06, 'EX_MGlcn173_medium': 1e-06, 'EX_MGlcn173_rl_medium': 1e-06, 'EX_MGlcn174_medium': 1e-06, 'EX_MGlcn174_rl_medium': 1e-06, 'EX_MGlcn175_medium': 1e-06, 'EX_MGlcn175_rl_medium': 1e-06, 'EX_MGlcn176_medium': 1e-06, 'EX_MGlcn176_rl_medium': 1e-06, 'EX_MGlcn177_medium': 1e-06, 'EX_MGlcn177_rl_medium': 1e-06, 'EX_MGlcn178_medium': 1e-06, 'EX_MGlcn178_rl_medium': 1e-06, 'EX_MGlcn179_medium': 1e-06, 'EX_MGlcn179_rl_medium': 1e-06, 'EX_MGlcn180_medium': 1e-06, 'EX_MGlcn180_rl_medium': 1e-06, 'EX_MGlcn181_medium': 1e-06, 'EX_MGlcn181_rl_medium': 1e-06, 'EX_MGlcn182_medium': 1e-06, 'EX_MGlcn182_rl_medium': 1e-06, 'EX_MGlcn18_medium': 1e-06, 'EX_MGlcn18_rl_medium': 1e-06, 'EX_MGlcn195_medium': 1e-06, 'EX_MGlcn195_rl_medium': 1e-06, 'EX_MGlcn196_medium': 1e-06, 'EX_MGlcn196_rl_medium': 1e-06, 'EX_MGlcn21_medium': 1e-06, 'EX_MGlcn21_rl_medium': 1e-06, 'EX_MGlcn22_medium': 1e-06, 'EX_MGlcn22_rl_medium': 1e-06, 'EX_MGlcn23_medium': 1e-06, 'EX_MGlcn23_rl_medium': 1e-06, 'EX_MGlcn25_medium': 1e-06, 'EX_MGlcn25_rl_medium': 1e-06, 'EX_MGlcn26_medium': 1e-06, 'EX_MGlcn26_rl_medium': 1e-06, 'EX_MGlcn27_medium': 1e-06, 'EX_MGlcn27_rl_medium': 1e-06, 'EX_MGlcn28_medium': 1e-06, 'EX_MGlcn28_rl_medium': 1e-06, 'EX_MGlcn29_medium': 1e-06, 'EX_MGlcn29_rl_medium': 1e-06, 'EX_MGlcn2_medium': 1e-06, 'EX_MGlcn2_rl_medium': 1e-06, 'EX_MGlcn30_medium': 1e-06, 'EX_MGlcn30_rl_medium': 1e-06, 'EX_MGlcn31_medium': 1e-06, 'EX_MGlcn31_rl_medium': 1e-06, 'EX_MGlcn32_medium': 1e-06, 'EX_MGlcn32_rl_medium': 1e-06, 'EX_MGlcn34_medium': 1e-06, 'EX_MGlcn34_rl_medium': 1e-06, 'EX_MGlcn35_medium': 1e-06, 'EX_MGlcn35_rl_medium': 1e-06, 'EX_MGlcn36_medium': 1e-06, 'EX_MGlcn36_rl_medium': 1e-06, 'EX_MGlcn39_medium': 1e-06, 'EX_MGlcn39_rl_medium': 1e-06, 'EX_MGlcn3_medium': 1e-06, 'EX_MGlcn3_rl_medium': 1e-06, 'EX_MGlcn42_medium': 1e-06, 'EX_MGlcn42_rl_medium': 1e-06, 'EX_MGlcn45_medium': 1e-06, 'EX_MGlcn45_rl_medium': 1e-06, 'EX_MGlcn46_medium': 1e-06, 'EX_MGlcn46_rl_medium': 1e-06, 'EX_MGlcn48_medium': 1e-06, 'EX_MGlcn48_rl_medium': 1e-06, 'EX_MGlcn4_medium': 1e-06, 'EX_MGlcn4_rl_medium': 1e-06, 'EX_MGlcn51_medium': 1e-06, 'EX_MGlcn51_rl_medium': 1e-06, 'EX_MGlcn53_medium': 1e-06, 'EX_MGlcn53_rl_medium': 1e-06, 'EX_MGlcn55_medium': 1e-06, 'EX_MGlcn55_rl_medium': 1e-06, 'EX_MGlcn56_medium': 1e-06, 'EX_MGlcn56_rl_medium': 1e-06, 'EX_MGlcn57_medium': 1e-06, 'EX_MGlcn57_rl_medium': 1e-06, 'EX_MGlcn58_medium': 1e-06, 'EX_MGlcn58_rl_medium': 1e-06, 'EX_MGlcn5_medium': 1e-06, 'EX_MGlcn5_rl_medium': 1e-06, 'EX_MGlcn61_medium': 1e-06, 'EX_MGlcn61_rl_medium': 1e-06, 'EX_MGlcn64_medium': 1e-06, 'EX_MGlcn64_rl_medium': 1e-06, 'EX_MGlcn65_medium': 1e-06, 'EX_MGlcn65_rl_medium': 1e-06, 'EX_MGlcn66_medium': 1e-06, 'EX_MGlcn66_rl_medium': 1e-06, 'EX_MGlcn68_medium': 1e-06, 'EX_MGlcn68_rl_medium': 1e-06, 'EX_MGlcn69_medium': 1e-06, 'EX_MGlcn69_rl_medium': 1e-06, 'EX_MGlcn6_medium': 1e-06, 'EX_MGlcn6_rl_medium': 1e-06, 'EX_MGlcn70_medium': 1e-06, 'EX_MGlcn70_rl_medium': 1e-06, 'EX_MGlcn71_medium': 1e-06, 'EX_MGlcn71_rl_medium': 1e-06, 'EX_MGlcn72_medium': 1e-06, 'EX_MGlcn72_rl_medium': 1e-06, 'EX_MGlcn74_medium': 1e-06, 'EX_MGlcn74_rl_medium': 1e-06, 'EX_MGlcn75_medium': 1e-06, 'EX_MGlcn75_rl_medium': 1e-06, 'EX_MGlcn77_medium': 1e-06, 'EX_MGlcn77_rl_medium': 1e-06, 'EX_MGlcn78_medium': 1e-06, 'EX_MGlcn78_rl_medium': 1e-06, 'EX_MGlcn79_medium': 1e-06, 'EX_MGlcn79_rl_medium': 1e-06, 'EX_MGlcn80_medium': 1e-06, 'EX_MGlcn80_rl_medium': 1e-06, 'EX_MGlcn81_medium': 1e-06, 'EX_MGlcn81_rl_medium': 1e-06, 'EX_MGlcn82_medium': 1e-06, 'EX_MGlcn82_rl_medium': 1e-06, 'EX_MGlcn83_medium': 1e-06, 'EX_MGlcn83_rl_medium': 1e-06, 'EX_MGlcn84_medium': 1e-06, 'EX_MGlcn84_rl_medium': 1e-06, 'EX_MGlcn85_medium': 1e-06, 'EX_MGlcn85_rl_medium': 1e-06, 'EX_MGlcn90_medium': 1e-06, 'EX_MGlcn90_rl_medium': 1e-06, 'EX_MGlcn91_medium': 1e-06, 'EX_MGlcn91_rl_medium': 1e-06, 'EX_MGlcn92_medium': 1e-06, 'EX_MGlcn92_rl_medium': 1e-06, 'EX_MGlcn93_medium': 1e-06, 'EX_MGlcn93_rl_medium': 1e-06, 'EX_MGlcn94_medium': 1e-06, 'EX_MGlcn94_rl_medium': 1e-06, 'EX_MGlcn95_medium': 1e-06, 'EX_MGlcn95_rl_medium': 1e-06, 'EX_MGlcn96_medium': 1e-06, 'EX_MGlcn96_rl_medium': 1e-06, 'EX_MGlcn97_medium': 1e-06, 'EX_MGlcn97_rl_medium': 1e-06, 'EX_MGlcn98_medium': 1e-06, 'EX_MGlcn98_rl_medium': 1e-06, 'EX_MGlcn99_medium': 1e-06, 'EX_MGlcn99_rl_medium': 1e-06, 'EX_T_antigen_medium': 1e-06, 'EX_Tn_antigen_medium': 1e-06, 'EX_ac_medium': 1e-06, 'EX_acald_medium': 1e-06, 'EX_acgal_medium': 1e-06, 'EX_acgam_medium': 1e-06, 'EX_acnam2a6agal_medium': 1e-06, 'EX_acnam_medium': 1e-06, 'EX_adocbl_medium': 1e-06, 'EX_agam1b3agal_medium': 1e-06, 'EX_agam1b6agal_medium': 1e-06, 'EX_ala_L_medium': array([37.20856362]), 'EX_alaasp_medium': 1e-06, 'EX_alagln_medium': 1e-06, 'EX_alaglu_medium': 1e-06, 'EX_alagly_medium': 1e-06, 'EX_alahis_medium': 1e-06, 'EX_alaleu_medium': 1e-06, 'EX_alathr_medium': 1e-06, 'EX_amp_medium': 1e-06, 'EX_arab_L_medium': 1e-06, 'EX_arbt_medium': 1e-06, 'EX_asn_L_medium': 1e-06, 'EX_asp_L_medium': array([47.08674913]), 'EX_btn_medium': array([0.00017867]), 'EX_but_medium': array([26.33425644]), 'EX_butso3_medium': 1e-06, 'EX_ca2_medium': array([18.5490793]), 'EX_cbl1_medium': 1e-06, 'EX_cbl2_medium': 1e-06, 'EX_cd2_medium': 1e-06, 'EX_cellb_medium': 1e-06, 'EX_cgly_medium': 1e-06, 'EX_cl_medium': array([375.55749866]), 'EX_co2_medium': 1e-06, 'EX_cobalt2_medium': 1e-06, 'EX_core2_medium': 1e-06, 'EX_core2_rl_medium': 1e-06, 'EX_core3_medium': 1e-06, 'EX_core6_medium': 1e-06, 'EX_core8_medium': 1e-06, 'EX_cro4_medium': 1e-06, 'EX_cu2_medium': array([0.03567494]), 'EX_cys_L_medium': array([7.51183164]), 'EX_dcyt_medium': 1e-06, 'EX_ethso3_medium': 1e-06, 'EX_etoh_medium': array([234.43401551]), 'EX_f1a_medium': 1e-06, 'EX_f1a_rl_medium': 1e-06, 'EX_fe2_medium': array([0.10924881]), 'EX_fe3_medium': array([0.10924881]), 'EX_fecrm_medium': 1e-06, 'EX_fol_medium': array([0.00013461]), 'EX_for_medium': 1e-06, 'EX_fru_medium': array([106.5058652]), 'EX_fum_medium': 1e-06, 'EX_gal1a3acgal_medium': 1e-06, 'EX_gal1b3acgal_medium': 1e-06, 'EX_gal_medium': array([0.02997404]), 'EX_galt_medium': 1e-06, 'EX_galur_medium': 1e-06, 'EX_gam_medium': 1e-06, 'EX_gcald_medium': 1e-06, 'EX_glc_D_medium': array([135.58035013]), 'EX_glctnb_medium': 1e-06, 'EX_gln_L_medium': 1e-06, 'EX_glu_L_medium': array([103.12220053]), 'EX_gly_medium': array([36.76468629]), 'EX_glyasn_medium': 1e-06, 'EX_glyasp_medium': 1e-06, 'EX_glyc_medium': 1e-06, 'EX_glycys_medium': 1e-06, 'EX_glygln_medium': 1e-06, 'EX_glyglu_medium': 1e-06, 'EX_glyleu_medium': 1e-06, 'EX_glymet_medium': 1e-06, 'EX_glyphe_medium': 1e-06, 'EX_glypro_medium': 1e-06, 'EX_glytyr_medium': 1e-06, 'EX_gthox_medium': 1e-06, 'EX_gthrd_medium': 1e-06, 'EX_gua_medium': 1e-06, 'EX_h2o_medium': array([165892.34250037]), 'EX_h2s_medium': 1e-06, 'EX_h_medium': 1e-06, 'EX_hexs_medium': 1e-06, 'EX_hg2_medium': 1e-06, 'EX_his_L_medium': array([14.02407663]), 'EX_hxan_medium': 1e-06, 'EX_ile_L_medium': array([28.92167513]), 'EX_inulin_medium': 1e-06, 'EX_isetac_medium': 1e-06, 'EX_k_medium': array([83.43380658]), 'EX_lac_D_medium': 1e-06, 'EX_leu_L_medium': array([46.88780991]), 'EX_lys_L_medium': array([33.31154825]), 'EX_malt_medium': array([8.41375825]), 'EX_malthx_medium': 1e-06, 'EX_malttr_medium': 1e-06, 'EX_man_medium': 1e-06, 'EX_mantr_medium': 1e-06, 'EX_melib_medium': 1e-06, 'EX_meoh_medium': 1e-06, 'EX_met_D_medium': 1e-06, 'EX_met_L_medium': array([10.72740469]), 'EX_metala_medium': 1e-06, 'EX_metsox_R_L_medium': 1e-06, 'EX_metsox_S_L_medium': 1e-06, 'EX_mg2_medium': array([14.52993211]), 'EX_mn2_medium': array([0.07470233]), 'EX_mnl_medium': array([0.17016904]), 'EX_mops_medium': 1e-06, 'EX_mqn7_medium': 1e-06, 'EX_mso3_medium': 1e-06, 'EX_na1_medium': array([172.44627172]), 'EX_nac_medium': array([0.30861619]), 'EX_nh4_medium': 1e-06, 'EX_o2_medium': 1e-06, 'EX_orn_medium': 1e-06, 'EX_pb_medium': 1e-06, 'EX_pect_medium': 1e-06, 'EX_phe_L_medium': array([20.71498664]), 'EX_pi_medium': array([14.22660928]), 'EX_ppa_medium': 1e-06, 'EX_pro_L_medium': array([53.81527918]), 'EX_ptrc_medium': 1e-06, 'EX_pydam_medium': array([0.00317177]), 'EX_pydx_medium': array([0.00321046]), 'EX_pydxn_medium': array([0.00317221]), 'EX_q8_medium': 1e-06, 'EX_rbflvrd_medium': 1e-06, 'EX_ribflv_medium': array([0.00369323]), 'EX_sTn_antigen_medium': 1e-06, 'EX_salcn_medium': 1e-06, 'EX_sbt_D_medium': array([0.03293594]), 'EX_ser_L_medium': array([37.37922556]), 'EX_sheme_medium': 1e-06, 'EX_so4_medium': 1e-06, 'EX_spmd_medium': 1e-06, 'EX_strch1_medium': array([33.03699973]), 'EX_strch2_medium': 1e-06, 'EX_succ_medium': 1e-06, 'EX_sucr_medium': array([202.38302174]), 'EX_sulfac_medium': 1e-06, 'EX_taur_medium': 1e-06, 'EX_thm_medium': array([5.40785801]), 'EX_thr_L_medium': array([25.88105024]), 'EX_tre_medium': 1e-06, 'EX_trp_L_medium': array([4.55482477]), 'EX_tyr_L_medium': array([15.64685397]), 'EX_ura_medium': 1e-06, 'EX_val_L_medium': array([37.78437731]), 'EX_xyl_D_medium': 1e-06, 'EX_zn2_medium': array([0.1509636]), 'EX__12ppd_S_medium': 1e-06, 'EX__4abut_medium': 1e-06, 'EX__4abz_medium': 1e-06, 'EX__5mthf_medium': array([0.00012931]), 'EX_C02528_medium': 1e-06, 'EX_amylopect900_medium': 1e-06, 'EX_amylose300_medium': 1e-06, 'EX_arabinogal_medium': 1e-06, 'EX_arabinoxyl_medium': 1e-06, 'EX_arabttr_medium': 1e-06, 'EX_cholate_medium': 1e-06, 'EX_chtbs_medium': 1e-06, 'EX_cytd_medium': 1e-06, 'EX_ddca_medium': array([13.45904717]), 'EX_dextrin_medium': 1e-06, 'EX_dgchol_medium': 1e-06, 'EX_fuc_L_medium': 1e-06, 'EX_gchola_medium': 1e-06, 'EX_glcur_medium': 1e-06, 'EX_kesto_medium': 1e-06, 'EX_kestopt_medium': 1e-06, 'EX_kestottr_medium': 1e-06, 'EX_lac_L_medium': 1e-06, 'EX_lcts_medium': array([4.1267147]), 'EX_ocdca_medium': array([35.85086639]), 'EX_pnto_R_medium': array([0.0255697]), 'EX_pullulan1200_medium': 1e-06, 'EX_raffin_medium': 1e-06, 'EX_rib_D_medium': 1e-06, 'EX_rmn_medium': 1e-06, 'EX_starch1200_medium': array([0.30586977]), 'EX_stys_medium': 1e-06, 'EX_tchola_medium': 1e-06, 'EX_tdchola_medium': 1e-06, 'EX_thf_medium': array([0.0001337]), 'EX_tsul_medium': 1e-06, 'EX_ttdca_medium': array([30.21138004]), 'EX_xan_medium': 1e-06, 'EX_xylan_medium': 1e-06, 'EX__26dap_M_medium': 1e-06, 'EX_MGlcn103_medium': 1e-06, 'EX_MGlcn103_rl_medium': 1e-06, 'EX_MGlcn108_medium': 1e-06, 'EX_MGlcn108_rl_medium': 1e-06, 'EX_MGlcn10_medium': 1e-06, 'EX_MGlcn10_rl_medium': 1e-06, 'EX_MGlcn116_medium': 1e-06, 'EX_MGlcn116_rl_medium': 1e-06, 'EX_MGlcn118_medium': 1e-06, 'EX_MGlcn118_rl_medium': 1e-06, 'EX_MGlcn119_medium': 1e-06, 'EX_MGlcn119_rl_medium': 1e-06, 'EX_MGlcn121_medium': 1e-06, 'EX_MGlcn121_rl_medium': 1e-06, 'EX_MGlcn122_medium': 1e-06, 'EX_MGlcn122_rl_medium': 1e-06, 'EX_MGlcn123_medium': 1e-06, 'EX_MGlcn123_rl_medium': 1e-06, 'EX_MGlcn124_medium': 1e-06, 'EX_MGlcn124_rl_medium': 1e-06, 'EX_MGlcn127_medium': 1e-06, 'EX_MGlcn127_rl_medium': 1e-06, 'EX_MGlcn128_medium': 1e-06, 'EX_MGlcn128_rl_medium': 1e-06, 'EX_MGlcn129_medium': 1e-06, 'EX_MGlcn129_rl_medium': 1e-06, 'EX_MGlcn132_medium': 1e-06, 'EX_MGlcn132_rl_medium': 1e-06, 'EX_MGlcn133_medium': 1e-06, 'EX_MGlcn133_rl_medium': 1e-06, 'EX_MGlcn134_medium': 1e-06, 'EX_MGlcn134_rl_medium': 1e-06, 'EX_MGlcn135_medium': 1e-06, 'EX_MGlcn135_rl_medium': 1e-06, 'EX_MGlcn136_medium': 1e-06, 'EX_MGlcn136_rl_medium': 1e-06, 'EX_MGlcn15_medium': 1e-06, 'EX_MGlcn15_rl_medium': 1e-06, 'EX_MGlcn162_medium': 1e-06, 'EX_MGlcn162_rl_medium': 1e-06, 'EX_MGlcn17_medium': 1e-06, 'EX_MGlcn17_rl_medium': 1e-06, 'EX_MGlcn183_medium': 1e-06, 'EX_MGlcn183_rl_medium': 1e-06, 'EX_MGlcn185_medium': 1e-06, 'EX_MGlcn185_rl_medium': 1e-06, 'EX_MGlcn186_medium': 1e-06, 'EX_MGlcn186_rl_medium': 1e-06, 'EX_MGlcn187_medium': 1e-06, 'EX_MGlcn187_rl_medium': 1e-06, 'EX_MGlcn188_medium': 1e-06, 'EX_MGlcn188_rl_medium': 1e-06, 'EX_MGlcn189_medium': 1e-06, 'EX_MGlcn189_rl_medium': 1e-06, 'EX_MGlcn190_medium': 1e-06, 'EX_MGlcn190_rl_medium': 1e-06, 'EX_MGlcn191_medium': 1e-06, 'EX_MGlcn191_rl_medium': 1e-06, 'EX_MGlcn192_medium': 1e-06, 'EX_MGlcn192_rl_medium': 1e-06, 'EX_MGlcn193_medium': 1e-06, 'EX_MGlcn193_rl_medium': 1e-06, 'EX_MGlcn194_medium': 1e-06, 'EX_MGlcn194_rl_medium': 1e-06, 'EX_MGlcn19_medium': 1e-06, 'EX_MGlcn19_rl_medium': 1e-06, 'EX_MGlcn20_medium': 1e-06, 'EX_MGlcn20_rl_medium': 1e-06, 'EX_MGlcn24_medium': 1e-06, 'EX_MGlcn24_rl_medium': 1e-06, 'EX_MGlcn33_medium': 1e-06, 'EX_MGlcn33_rl_medium': 1e-06, 'EX_MGlcn37_medium': 1e-06, 'EX_MGlcn37_rl_medium': 1e-06, 'EX_MGlcn38_medium': 1e-06, 'EX_MGlcn38_rl_medium': 1e-06, 'EX_MGlcn40_medium': 1e-06, 'EX_MGlcn40_rl_medium': 1e-06, 'EX_MGlcn41_medium': 1e-06, 'EX_MGlcn41_rl_medium': 1e-06, 'EX_MGlcn47_medium': 1e-06, 'EX_MGlcn47_rl_medium': 1e-06, 'EX_MGlcn50_medium': 1e-06, 'EX_MGlcn50_rl_medium': 1e-06, 'EX_MGlcn54_medium': 1e-06, 'EX_MGlcn54_rl_medium': 1e-06, 'EX_MGlcn59_medium': 1e-06, 'EX_MGlcn59_rl_medium': 1e-06, 'EX_MGlcn60_medium': 1e-06, 'EX_MGlcn60_rl_medium': 1e-06, 'EX_MGlcn62_medium': 1e-06, 'EX_MGlcn62_rl_medium': 1e-06, 'EX_MGlcn63_medium': 1e-06, 'EX_MGlcn63_rl_medium': 1e-06, 'EX_MGlcn67_medium': 1e-06, 'EX_MGlcn67_rl_medium': 1e-06, 'EX_MGlcn73_medium': 1e-06, 'EX_MGlcn73_rl_medium': 1e-06, 'EX_MGlcn76_medium': 1e-06, 'EX_MGlcn76_rl_medium': 1e-06, 'EX_MGlcn7_medium': 1e-06, 'EX_MGlcn7_rl_medium': 1e-06, 'EX_MGlcn86_medium': 1e-06, 'EX_MGlcn86_rl_medium': 1e-06, 'EX_MGlcn87_medium': 1e-06, 'EX_MGlcn87_rl_medium': 1e-06, 'EX_MGlcn88_medium': 1e-06, 'EX_MGlcn88_rl_medium': 1e-06, 'EX_MGlcn89_medium': 1e-06, 'EX_MGlcn89_rl_medium': 1e-06, 'EX_MGlcn8_medium': 1e-06, 'EX_MGlcn8_rl_medium': 1e-06, 'EX_MGlcn9_medium': 1e-06, 'EX_MGlcn9_rl_medium': 1e-06, 'EX_Tyr_ggn_medium': 1e-06, 'EX_adn_medium': 1e-06, 'EX_agal1b3agal_medium': 1e-06, 'EX_arg_L_medium': array([20.3518771]), 'EX_cit_medium': 1e-06, 'EX_core4_medium': 1e-06, 'EX_core4_rl_medium': 1e-06, 'EX_core5_medium': 1e-06, 'EX_dad_2_medium': 1e-06, 'EX_dextran40_medium': 1e-06, 'EX_dgsn_medium': 1e-06, 'EX_din_medium': 1e-06, 'EX_dsT_antigen_medium': 1e-06, 'EX_dsT_antigen_rl_medium': 1e-06, 'EX_duri_medium': 1e-06, 'EX_galmannan_medium': 1e-06, 'EX_glcmannan_medium': 1e-06, 'EX_glygn2_medium': 1e-06, 'EX_glygn4_medium': 1e-06, 'EX_glygn5_medium': 1e-06, 'EX_gncore1_medium': 1e-06, 'EX_gncore1_rl_medium': 1e-06, 'EX_gncore2_medium': 1e-06, 'EX_gncore2_rl_medium': 1e-06, 'EX_gsn_medium': 1e-06, 'EX_h2_medium': 1e-06, 'EX_hdca_medium': array([92.78506719]), 'EX_indole_medium': 1e-06, 'EX_ins_medium': 1e-06, 'EX_isobut_medium': 1e-06, 'EX_isocapr_medium': 1e-06, 'EX_isoval_medium': 1e-06, 'EX_lald_L_medium': 1e-06, 'EX_lichn_medium': 1e-06, 'EX_lmn2_medium': 1e-06, 'EX_lmn30_medium': 1e-06, 'EX_no2_medium': 1e-06, 'EX_pac_medium': 1e-06, 'EX_pecticgal_medium': 1e-06, 'EX_pheme_medium': 1e-06, 'EX_ppi_medium': 1e-06, 'EX_sT_antigen_medium': 1e-06, 'EX_sT_antigen_rl_medium': 1e-06, 'EX_thymd_medium': 1e-06, 'EX_urea_medium': 1e-06, 'EX_uri_medium': 1e-06, 'EX_xyluglc_medium': 1e-06, 'f_final': 1e-06}\n",
      "/home/schwartzlab/miniconda3/envs/toby_env/lib/python3.12/site-packages/cobra/medium/boundary_types.py:97: FutureWarning: Series.__getitem__ treating keys as positions is deprecated. In a future version, integer keys will always be treated as labels (consistent with DataFrame behavior). To access a value by position, use `ser.iloc[pos]`\n",
      "  return most[0]\n"
     ]
    }
   ],
   "source": [
    "##### medium creation code\n",
    "import re\n",
    "\n",
    "parent_path = Path().absolute().parent\n",
    "diet_filepath = parent_path / r\"diet_info/western_fluxes.tsv\"\n",
    "diet_df = pd.read_csv(diet_filepath, sep = \"\\t\")\n",
    "diet_df.loc[:, 'Reaction'] = diet_df['Reaction'].apply(lambda reaction: re.split(r\"\\[|\\(\", reaction)[0])\n",
    "diet_reactionID_list = list(diet_df.loc[:, 'Reaction'])\n",
    "\n",
    "\n",
    "#creating the medium with the diet values\n",
    "medium_exchange_dict = {}\n",
    "for medium_reaction in com_model_obj.model.exchanges:\n",
    "    medium_reaction_id = medium_reaction.id\n",
    "\n",
    "    # ensuring medium_reaction_id matches ids from diet_reaction_ID_list\n",
    "    medium_reaction_parts = medium_reaction_id.split(\"_\")\n",
    "    if medium_reaction_parts[1] == \"\":\n",
    "        del(medium_reaction_parts)[1]\n",
    "    del(medium_reaction_parts)[-1]\n",
    "    reaction_id = \"_\".join(medium_reaction_parts)\n",
    "\n",
    "    if reaction_id in medium_exchange_dict.values():\n",
    "        continue\n",
    "    elif reaction_id in diet_reactionID_list:\n",
    "        flux = diet_df.loc[diet_df['Reaction'] == reaction_id, 'Flux Value'].values\n",
    "        medium_exchange_dict[medium_reaction_id] = float(flux[0])\n",
    "    else:\n",
    "            medium_exchange_dict[medium_reaction_id] = 1e-6\n",
    "print(medium_exchange_dict)\n",
    "\n",
    "        \n",
    "           \n",
    "           \n",
    "       "
   ]
  },
  {
   "cell_type": "code",
   "execution_count": null,
   "metadata": {
    "tags": [
     "outputPrepend"
    ]
   },
   "outputs": [],
   "source": [
    "# calling the community model to make it\n",
    "com_model_obj.model"
   ]
  },
  {
   "cell_type": "code",
   "execution_count": null,
   "metadata": {
    "tags": [
     "outputPrepend"
    ]
   },
   "outputs": [],
   "source": [
    "##### medium creation code\n",
    "\n",
    "\n",
    "model_members = com_model_obj.member_models\n",
    "single_org_model = model_members[0]\n",
    "model = single_org_model.model\n",
    "for reaction in model.exchanges:\n",
    "    print(reaction.id)\n",
    "    print(reaction)\n",
    "    print(reaction.bounds)"
   ]
  },
  {
   "cell_type": "markdown",
   "metadata": {},
   "source": [
    "### Getting the Summary and Report for the model"
   ]
  },
  {
   "cell_type": "code",
   "execution_count": null,
   "metadata": {},
   "outputs": [],
   "source": [
    "com_model_obj.summary()"
   ]
  },
  {
   "cell_type": "markdown",
   "metadata": {},
   "source": [
    "- In report, need to check any unbalanced reactions that are not sink/demand (SINK, DM), Exchange (EX), Transport (T_ or TR_) or BIOMASS"
   ]
  },
  {
   "cell_type": "code",
   "execution_count": null,
   "metadata": {},
   "outputs": [],
   "source": [
    "com_model_obj.report()"
   ]
  },
  {
   "cell_type": "markdown",
   "metadata": {},
   "source": [
    "- Checking if there are any thermodynamically infeasible cycles"
   ]
  },
  {
   "cell_type": "code",
   "execution_count": null,
   "metadata": {},
   "outputs": [],
   "source": [
    "# com_model_obj.get_loops()\n",
    "# taking too long to run so I stopped it\n",
    "# could be a problem and will have to "
   ]
  },
  {
   "cell_type": "markdown",
   "metadata": {},
   "source": [
    "## Step 3: Converting to fixed abundances as we are modelling specific conditions"
   ]
  },
  {
   "cell_type": "code",
   "execution_count": null,
   "metadata": {},
   "outputs": [],
   "source": [
    "# creating the abundance_dict\n",
    "abundance_dict = com_model_obj.generate_equal_abundance_dict()\n",
    "print(sum(abundance_dict.values()))\n",
    "print(abundance_dict)"
   ]
  },
  {
   "cell_type": "code",
   "execution_count": null,
   "metadata": {},
   "outputs": [],
   "source": [
    "# converting to fixed abundance model and then adding the abundances from abundance_dict\n",
    "com_model_obj.convert_to_fixed_abundance()\n",
    "com_model_obj.apply_fixed_abundance(abundance_dict)\n",
    "\n",
    "# summarising the model\n",
    "com_model_obj.summary()\n",
    "\n",
    "\n",
    "\n"
   ]
  },
  {
   "cell_type": "code",
   "execution_count": null,
   "metadata": {},
   "outputs": [],
   "source": [
    "summary = com_model_obj.summary()\n",
    "\n",
    "up_flux = summary.uptake_flux # how to get the uptake flux\n",
    "sec_flux = summary.secretion_flux # how to get the secretion flux\n",
    "\n",
    "# can get the objective value and status from this!\n",
    "solution = com_model_obj.model.optimize()\n",
    "print(solution.objective_value) # how to get the objective_value\n",
    "print(solution.status) # How to get the status\n",
    "\n",
    "print(up_flux.head())\n",
    "print(sec_flux.head())\n"
   ]
  },
  {
   "cell_type": "markdown",
   "metadata": {},
   "source": [
    "- Now, we can check all the potential exchange metabolic fluxes and cross-feeding interactions"
   ]
  },
  {
   "cell_type": "code",
   "execution_count": null,
   "metadata": {},
   "outputs": [],
   "source": [
    "MES = com_model_obj.potential_metabolite_exchanges()"
   ]
  },
  {
   "cell_type": "code",
   "execution_count": null,
   "metadata": {},
   "outputs": [],
   "source": [
    "MES.to_csv(\"mes_results.csv\")"
   ]
  }
 ],
 "metadata": {
  "kernelspec": {
   "name": "python3",
   "display_name": "Python 3.12.4 64-bit ('toby_env': conda)",
   "metadata": {
    "interpreter": {
     "hash": "e776f038d8f1bafa05e0e2cea53445d5b2fb97840413faac19b8b7ca0b9ca348"
    }
   }
  },
  "language_info": {
   "codemirror_mode": {
    "name": "ipython",
    "version": 3
   },
   "file_extension": ".py",
   "mimetype": "text/x-python",
   "name": "python",
   "nbconvert_exporter": "python",
   "pygments_lexer": "ipython3",
   "version": "3.12.4-final"
  }
 },
 "nbformat": 4,
 "nbformat_minor": 2
}